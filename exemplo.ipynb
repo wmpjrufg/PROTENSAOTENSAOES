{
 "cells": [
  {
   "cell_type": "code",
   "execution_count": 1,
   "metadata": {},
   "outputs": [
    {
     "name": "stdout",
     "output_type": "stream",
     "text": [
      "Requirement already satisfied: EASYPLOT-TOOLBOX in c:\\users\\wande\\appdata\\local\\packages\\pythonsoftwarefoundation.python.3.11_qbz5n2kfra8p0\\localcache\\local-packages\\python311\\site-packages (2024.1)\n",
      "Requirement already satisfied: matplotlib in c:\\users\\wande\\appdata\\local\\packages\\pythonsoftwarefoundation.python.3.11_qbz5n2kfra8p0\\localcache\\local-packages\\python311\\site-packages (from EASYPLOT-TOOLBOX) (3.8.3)\n",
      "Requirement already satisfied: seaborn in c:\\users\\wande\\appdata\\local\\packages\\pythonsoftwarefoundation.python.3.11_qbz5n2kfra8p0\\localcache\\local-packages\\python311\\site-packages (from EASYPLOT-TOOLBOX) (0.13.2)\n",
      "Requirement already satisfied: squarify in c:\\users\\wande\\appdata\\local\\packages\\pythonsoftwarefoundation.python.3.11_qbz5n2kfra8p0\\localcache\\local-packages\\python311\\site-packages (from EASYPLOT-TOOLBOX) (0.4.3)\n",
      "Requirement already satisfied: joypy in c:\\users\\wande\\appdata\\local\\packages\\pythonsoftwarefoundation.python.3.11_qbz5n2kfra8p0\\localcache\\local-packages\\python311\\site-packages (from EASYPLOT-TOOLBOX) (0.2.6)\n",
      "Requirement already satisfied: numpy>=1.16.5 in c:\\users\\wande\\appdata\\local\\packages\\pythonsoftwarefoundation.python.3.11_qbz5n2kfra8p0\\localcache\\local-packages\\python311\\site-packages (from joypy->EASYPLOT-TOOLBOX) (1.26.2)\n",
      "Requirement already satisfied: scipy>=0.11.0 in c:\\users\\wande\\appdata\\local\\packages\\pythonsoftwarefoundation.python.3.11_qbz5n2kfra8p0\\localcache\\local-packages\\python311\\site-packages (from joypy->EASYPLOT-TOOLBOX) (1.11.4)\n",
      "Requirement already satisfied: pandas>=0.20.0 in c:\\users\\wande\\appdata\\local\\packages\\pythonsoftwarefoundation.python.3.11_qbz5n2kfra8p0\\localcache\\local-packages\\python311\\site-packages (from joypy->EASYPLOT-TOOLBOX) (2.1.3)\n",
      "Requirement already satisfied: contourpy>=1.0.1 in c:\\users\\wande\\appdata\\local\\packages\\pythonsoftwarefoundation.python.3.11_qbz5n2kfra8p0\\localcache\\local-packages\\python311\\site-packages (from matplotlib->EASYPLOT-TOOLBOX) (1.2.0)\n",
      "Requirement already satisfied: cycler>=0.10 in c:\\users\\wande\\appdata\\local\\packages\\pythonsoftwarefoundation.python.3.11_qbz5n2kfra8p0\\localcache\\local-packages\\python311\\site-packages (from matplotlib->EASYPLOT-TOOLBOX) (0.12.1)\n",
      "Requirement already satisfied: fonttools>=4.22.0 in c:\\users\\wande\\appdata\\local\\packages\\pythonsoftwarefoundation.python.3.11_qbz5n2kfra8p0\\localcache\\local-packages\\python311\\site-packages (from matplotlib->EASYPLOT-TOOLBOX) (4.49.0)\n",
      "Requirement already satisfied: kiwisolver>=1.3.1 in c:\\users\\wande\\appdata\\local\\packages\\pythonsoftwarefoundation.python.3.11_qbz5n2kfra8p0\\localcache\\local-packages\\python311\\site-packages (from matplotlib->EASYPLOT-TOOLBOX) (1.4.5)\n",
      "Requirement already satisfied: packaging>=20.0 in c:\\users\\wande\\appdata\\local\\packages\\pythonsoftwarefoundation.python.3.11_qbz5n2kfra8p0\\localcache\\local-packages\\python311\\site-packages (from matplotlib->EASYPLOT-TOOLBOX) (23.2)\n",
      "Requirement already satisfied: pillow>=8 in c:\\users\\wande\\appdata\\local\\packages\\pythonsoftwarefoundation.python.3.11_qbz5n2kfra8p0\\localcache\\local-packages\\python311\\site-packages (from matplotlib->EASYPLOT-TOOLBOX) (10.0.0)\n",
      "Requirement already satisfied: pyparsing>=2.3.1 in c:\\users\\wande\\appdata\\local\\packages\\pythonsoftwarefoundation.python.3.11_qbz5n2kfra8p0\\localcache\\local-packages\\python311\\site-packages (from matplotlib->EASYPLOT-TOOLBOX) (3.1.2)\n",
      "Requirement already satisfied: python-dateutil>=2.7 in c:\\users\\wande\\appdata\\local\\packages\\pythonsoftwarefoundation.python.3.11_qbz5n2kfra8p0\\localcache\\local-packages\\python311\\site-packages (from matplotlib->EASYPLOT-TOOLBOX) (2.8.2)\n",
      "Requirement already satisfied: pytz>=2020.1 in c:\\users\\wande\\appdata\\local\\packages\\pythonsoftwarefoundation.python.3.11_qbz5n2kfra8p0\\localcache\\local-packages\\python311\\site-packages (from pandas>=0.20.0->joypy->EASYPLOT-TOOLBOX) (2023.3.post1)\n",
      "Requirement already satisfied: tzdata>=2022.1 in c:\\users\\wande\\appdata\\local\\packages\\pythonsoftwarefoundation.python.3.11_qbz5n2kfra8p0\\localcache\\local-packages\\python311\\site-packages (from pandas>=0.20.0->joypy->EASYPLOT-TOOLBOX) (2023.3)\n",
      "Requirement already satisfied: six>=1.5 in c:\\users\\wande\\appdata\\local\\packages\\pythonsoftwarefoundation.python.3.11_qbz5n2kfra8p0\\localcache\\local-packages\\python311\\site-packages (from python-dateutil>=2.7->matplotlib->EASYPLOT-TOOLBOX) (1.16.0)\n"
     ]
    }
   ],
   "source": [
    "!pip install --upgrade EASYPLOT-TOOLBOX"
   ]
  },
  {
   "cell_type": "code",
   "execution_count": null,
   "metadata": {},
   "outputs": [],
   "source": [
    "# Dados que o usuário informa\n",
    "a_c = 2432E-4 #(m2)\n",
    "i_c = 2942254E-8 #(m4)\n",
    "w_t = 54740E-6 #(m3)\n",
    "w_c = 61489E-6 #(m3)\n",
    "e_p = [1.98, 3.96, 5.94, 7.92, 9.90, 11.80, 13.86, 15.84, 17.82, 19.8] # puxar do txt que o usuário informa\n",
    "x = [0.38] * 10 # puxar do txt que o usuário informa"
   ]
  },
  {
   "cell_type": "code",
   "execution_count": null,
   "metadata": {},
   "outputs": [],
   "source": [
    "# Data\n",
    "DF =  {'x0': df_resume['neof'],\n",
    "                    'y0': df_resume['OF BEST']\n",
    "                   }\n",
    "\n",
    "# Chart setup\n",
    "CHART_CONFIG = {\n",
    "              'NAME': 'figure5',\n",
    "              'WIDTH': 15.,\n",
    "              'HEIGHT': 7.5,\n",
    "              'MARKER': ['s'],\n",
    "              'MARKER SIZE': 3,\n",
    "              'LINE WIDTH': 4,\n",
    "              'LINE STYLE': ['--'],\n",
    "              'X AXIS LABEL': 'neof',\n",
    "              'X AXIS SIZE': 10,\n",
    "              'Y AXIS LABEL': 'of value',\n",
    "              'Y AXIS SIZE': 10,\n",
    "              'AXISES COLOR': '#000000',\n",
    "              'LABELS SIZE': 14,\n",
    "              'LABELS COLOR': '#000000',\n",
    "              'CHART COLOR': ['#000000'],\n",
    "              'ON GRID?': True,\n",
    "              'LEGEND': [None], # or without legend 'LEGEND': [None]\n",
    "              'LOC LEGEND': 'upper left',\n",
    "              'SIZE LEGEND': 12,\n",
    "              'Y LOG': False,\n",
    "              'X LOG': False,\n",
    "              'DPI': 200,\n",
    "              'EXTENSION': 'svg'\n",
    "             }\n",
    "\n",
    "# Data statement\n",
    "DATA = {'DATASET': DF}\n",
    "\n",
    "# Call function\n",
    "line_chart(DATASET = DATA, PLOT_SETUP = CHART_CONFIG)"
   ]
  }
 ],
 "metadata": {
  "kernelspec": {
   "display_name": "Python 3",
   "language": "python",
   "name": "python3"
  },
  "language_info": {
   "codemirror_mode": {
    "name": "ipython",
    "version": 3
   },
   "file_extension": ".py",
   "mimetype": "text/x-python",
   "name": "python",
   "nbconvert_exporter": "python",
   "pygments_lexer": "ipython3",
   "version": "3.11.8"
  }
 },
 "nbformat": 4,
 "nbformat_minor": 2
}
